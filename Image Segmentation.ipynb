{
 "cells": [
  {
   "cell_type": "markdown",
   "id": "0ec65a69",
   "metadata": {},
   "source": [
    "# 1. Importing Necessary Packages"
   ]
  },
  {
   "cell_type": "code",
   "execution_count": 76,
   "id": "75c57aac",
   "metadata": {},
   "outputs": [],
   "source": [
    "import numpy as np\n",
    "import cv2"
   ]
  },
  {
   "cell_type": "markdown",
   "id": "c76beeb5",
   "metadata": {},
   "source": [
    "# 2. Input the image "
   ]
  },
  {
   "cell_type": "code",
   "execution_count": 77,
   "id": "4bd73a97",
   "metadata": {},
   "outputs": [],
   "source": [
    "img = cv2.imread('fogimg.jpg')"
   ]
  },
  {
   "cell_type": "code",
   "execution_count": null,
   "id": "1db198ec",
   "metadata": {},
   "outputs": [],
   "source": []
  },
  {
   "cell_type": "code",
   "execution_count": null,
   "id": "5af2cad5",
   "metadata": {},
   "outputs": [],
   "source": []
  },
  {
   "cell_type": "markdown",
   "id": "62ce05c6",
   "metadata": {},
   "source": [
    "# 3. Applying thresholding to segment the image"
   ]
  },
  {
   "cell_type": "code",
   "execution_count": 78,
   "id": "3a2fe322",
   "metadata": {},
   "outputs": [],
   "source": [
    "# Convert the image into grayscale\n",
    "gray = cv2.cvtColor(img, cv2.COLOR_BGR2GRAY)\n",
    "\n",
    "# Perform thresholding segmentation\n",
    "ret, thresh = cv2.threshold(gray, 0, 255, cv2.THRESH_BINARY_INV+cv2.THRESH_OTSU)\n",
    "\n",
    "# Display the segmented image\n",
    "cv2.imshow('Segmented image using Thresholding', thresh)\n",
    "cv2.waitKey(0)\n",
    "cv2.destroyAllWindows()"
   ]
  },
  {
   "cell_type": "markdown",
   "id": "a77a4b01",
   "metadata": {},
   "source": [
    "# 4. Applying Canny Edge Detection Algorithm to segment the image"
   ]
  },
  {
   "cell_type": "code",
   "execution_count": 79,
   "id": "1a2926fd",
   "metadata": {},
   "outputs": [],
   "source": [
    "# Define the edge detection parameters\n",
    "threshold1 = 30\n",
    "threshold2 = 100\n",
    "\n",
    "# Perform Canny edge detection\n",
    "edges = cv2.Canny(img, threshold1, threshold2)\n",
    "\n",
    "# Display the edges\n",
    "cv2.imshow('Segmented image using Canny Edge Detection', edges)\n",
    "cv2.waitKey(0)\n",
    "cv2.destroyAllWindows()"
   ]
  },
  {
   "cell_type": "markdown",
   "id": "76e411d6",
   "metadata": {},
   "source": [
    "# 5. Applying Region Growing to segment the image"
   ]
  },
  {
   "cell_type": "code",
   "execution_count": 80,
   "id": "e7862628",
   "metadata": {
    "scrolled": true
   },
   "outputs": [
    {
     "name": "stderr",
     "output_type": "stream",
     "text": [
      "<ipython-input-80-5a5db71b2430>:13: RuntimeWarning: overflow encountered in ubyte_scalars\n",
      "  if abs(image[pixel] - image[neighbor]) < 50 and out[neighbor] == 0:\n"
     ]
    }
   ],
   "source": [
    "# Convert the image into grayscale and remove noise\n",
    "gray = cv2.cvtColor(img, cv2.COLOR_BGR2GRAY)\n",
    "gray = cv2.medianBlur(gray, 5)\n",
    "\n",
    "# Function to perform region growing\n",
    "def region_growing(image, seed):\n",
    "    out = np.zeros_like(image)\n",
    "    out[seed] = 255\n",
    "    queue = [seed]\n",
    "    while queue:\n",
    "        pixel = queue.pop(0)\n",
    "        for neighbor in get_neighbors(pixel, image.shape):\n",
    "            if abs(image[pixel] - image[neighbor]) < 50 and out[neighbor] == 0:\n",
    "                out[neighbor] = 255\n",
    "                queue.append(neighbor)\n",
    "    return out\n",
    "\n",
    "# Function to get the neighbours of a given pixel\n",
    "def get_neighbors(pixel, shape):\n",
    "    indices = [(pixel[0] - 1, pixel[1] - 1),\n",
    "               (pixel[0] - 1, pixel[1]),\n",
    "               (pixel[0] - 1, pixel[1] + 1),\n",
    "               (pixel[0], pixel[1] - 1),\n",
    "               (pixel[0], pixel[1] + 1),\n",
    "               (pixel[0] + 1, pixel[1] - 1),\n",
    "               (pixel[0] + 1, pixel[1]),\n",
    "               (pixel[0] + 1, pixel[1] + 1)]\n",
    "    neighbors = filter(lambda x: 0 <= x[0] < shape[0] and 0 <= x[1] < shape[1], indices)\n",
    "    return neighbors\n",
    "\n",
    "# Select the seed point and segment it using region growing\n",
    "seed = (200, 200)\n",
    "region_grown = region_growing(gray, seed)\n",
    "\n",
    "# Display the output image\n",
    "cv2.imshow(\"Segmented image using Region Growing\", region_grown)\n",
    "cv2.waitKey(0)\n",
    "cv2.destroyAllWindows()"
   ]
  },
  {
   "cell_type": "code",
   "execution_count": null,
   "id": "6b533f68",
   "metadata": {},
   "outputs": [],
   "source": []
  },
  {
   "cell_type": "markdown",
   "id": "cb2993fa",
   "metadata": {},
   "source": [
    "# 5. Applying Clustering (k-means) to segment the image"
   ]
  },
  {
   "cell_type": "code",
   "execution_count": 81,
   "id": "8e1ece1f",
   "metadata": {},
   "outputs": [],
   "source": [
    "# Reshape the input image to a 2D array of pixels\n",
    "pixel_values = img.reshape((-1, 3))\n",
    "\n",
    "# Convert the pixel values to float32 for K-means clustering\n",
    "pixel_values = np.float32(pixel_values)\n",
    "\n",
    "# Define the parameters for K-means clustering\n",
    "K = 4 # number of clusters\n",
    "criteria = (cv2.TERM_CRITERIA_EPS + cv2.TERM_CRITERIA_MAX_ITER, 10, 1.0)\n",
    "\n",
    "# Perform K-means clustering\n",
    "ret, labels, centers = cv2.kmeans(pixel_values, K, None, criteria, 10, cv2.KMEANS_RANDOM_CENTERS)\n",
    "\n",
    "# Reshape the labels and centers to the original image shape\n",
    "segmented_image = labels.reshape(img.shape[:2])\n",
    "centers = np.uint8(centers)\n",
    "segmented_image = centers[segmented_image]\n",
    "\n",
    "# Display the segmented image\n",
    "cv2.imshow('Segmented Image using k-means clustering', segmented_image)\n",
    "cv2.waitKey(0)\n",
    "cv2.destroyAllWindows()"
   ]
  },
  {
   "cell_type": "markdown",
   "id": "3dda2af0",
   "metadata": {},
   "source": [
    "# 6. Applying Erosion and Dilation on the segmented images (Morphological Operations)"
   ]
  },
  {
   "cell_type": "code",
   "execution_count": null,
   "id": "0aabeeb3",
   "metadata": {},
   "outputs": [],
   "source": [
    "import cv2\n",
    "import numpy as np\n",
    "\n",
    "img = segmented_image\n",
    "\n",
    "# Define kernel size for erosion and dilation\n",
    "kernel_size = (5,5)\n",
    "\n",
    "# Create erosion and dilation kernels\n",
    "erosion_kernel = cv2.getStructuringElement(cv2.MORPH_RECT, kernel_size)\n",
    "dilation_kernel = cv2.getStructuringElement(cv2.MORPH_RECT, kernel_size)\n",
    "\n",
    "# Apply erosion to segmented image\n",
    "eroded_img = cv2.erode(img, erosion_kernel, iterations=1)\n",
    "# Apply dilation to segmented image\n",
    "dilated_img = cv2.dilate(img, dilation_kernel, iterations=1)\n",
    "\n",
    "# Display the original, eroded, and dilated images\n",
    "cv2.imshow('Eroded Image', eroded_img)\n",
    "cv2.imshow('Dilated Image', dilated_img)\n",
    "cv2.waitKey(0)\n",
    "cv2.destroyAllWindows()"
   ]
  },
  {
   "cell_type": "code",
   "execution_count": null,
   "id": "d79a9f31",
   "metadata": {},
   "outputs": [],
   "source": []
  },
  {
   "cell_type": "code",
   "execution_count": null,
   "id": "baf518db",
   "metadata": {},
   "outputs": [],
   "source": [
    "\n"
   ]
  }
 ],
 "metadata": {
  "kernelspec": {
   "display_name": "Python 3",
   "language": "python",
   "name": "python3"
  },
  "language_info": {
   "codemirror_mode": {
    "name": "ipython",
    "version": 3
   },
   "file_extension": ".py",
   "mimetype": "text/x-python",
   "name": "python",
   "nbconvert_exporter": "python",
   "pygments_lexer": "ipython3",
   "version": "3.8.8"
  }
 },
 "nbformat": 4,
 "nbformat_minor": 5
}
