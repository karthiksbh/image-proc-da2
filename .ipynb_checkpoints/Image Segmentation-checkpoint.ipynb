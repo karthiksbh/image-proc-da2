{
 "cells": [
  {
   "cell_type": "code",
   "execution_count": 14,
   "id": "3a2fe322",
   "metadata": {},
   "outputs": [],
   "source": [
    "import cv2\n",
    "\n",
    "# Load the dehazed underwater image\n",
    "img = cv2.imread('img3.png')\n",
    "\n",
    "# Convert the image to grayscale\n",
    "gray = cv2.cvtColor(img, cv2.COLOR_BGR2GRAY)\n",
    "\n",
    "# Perform thresholding segmentation\n",
    "ret, thresh = cv2.threshold(gray, 0, 255, cv2.THRESH_BINARY_INV+cv2.THRESH_OTSU)\n",
    "\n",
    "# Display the segmented image\n",
    "cv2.imshow('Segmented image', thresh)\n",
    "cv2.waitKey(0)\n",
    "cv2.destroyAllWindows()"
   ]
  },
  {
   "cell_type": "code",
   "execution_count": 22,
   "id": "1a2926fd",
   "metadata": {},
   "outputs": [],
   "source": [
    "import numpy as np\n",
    "import cv2\n",
    "\n",
    "# Load the image\n",
    "img = cv2.imread('img3.png', 0)\n",
    "\n",
    "# Define the edge detection parameters\n",
    "threshold1 = 30\n",
    "threshold2 = 100\n",
    "\n",
    "# Perform Canny edge detection\n",
    "edges = cv2.Canny(img, threshold1, threshold2)\n",
    "\n",
    "# Display the edges\n",
    "cv2.imshow('Edge Detection', edges)\n",
    "cv2.waitKey(0)\n",
    "cv2.destroyAllWindows()"
   ]
  },
  {
   "cell_type": "code",
   "execution_count": 1,
   "id": "e7862628",
   "metadata": {
    "scrolled": true
   },
   "outputs": [
    {
     "name": "stderr",
     "output_type": "stream",
     "text": [
      "<ipython-input-1-52bc0a0566bd>:28: RuntimeWarning: overflow encountered in ubyte_scalars\n",
      "  if abs(image[pixel] - image[neighbor]) < 50 and out[neighbor] == 0:\n"
     ]
    }
   ],
   "source": [
    "import cv2\n",
    "import numpy as np\n",
    "\n",
    "# Load the image\n",
    "img = cv2.imread(\"img1.png\")\n",
    "\n",
    "# Convert the image to grayscale\n",
    "gray = cv2.cvtColor(img, cv2.COLOR_BGR2GRAY)\n",
    "\n",
    "# Apply median blur to remove noise\n",
    "gray = cv2.medianBlur(gray, 5)\n",
    "\n",
    "# Region Growing\n",
    "def region_growing(image, seed):\n",
    "    # Create an output image to store the segmented region\n",
    "    out = np.zeros_like(image)\n",
    "    # Set the seed point as the first pixel of the output image\n",
    "    out[seed] = 255\n",
    "    # Create a queue to hold the neighboring pixels of the seed point\n",
    "    queue = [seed]\n",
    "    # Loop through the queue until it's empty\n",
    "    while queue:\n",
    "        # Get the next pixel from the queue\n",
    "        pixel = queue.pop(0)\n",
    "        # Loop through the neighboring pixels\n",
    "        for neighbor in get_neighbors(pixel, image.shape):\n",
    "            # Check if the neighboring pixel is part of the region\n",
    "            if abs(image[pixel] - image[neighbor]) < 50 and out[neighbor] == 0:\n",
    "                # Add the neighboring pixel to the output image and the queue\n",
    "                out[neighbor] = 255\n",
    "                queue.append(neighbor)\n",
    "    return out\n",
    "\n",
    "def get_neighbors(pixel, shape):\n",
    "    # Get the indices of the neighboring pixels\n",
    "    indices = [(pixel[0] - 1, pixel[1] - 1),\n",
    "               (pixel[0] - 1, pixel[1]),\n",
    "               (pixel[0] - 1, pixel[1] + 1),\n",
    "               (pixel[0], pixel[1] - 1),\n",
    "               (pixel[0], pixel[1] + 1),\n",
    "               (pixel[0] + 1, pixel[1] - 1),\n",
    "               (pixel[0] + 1, pixel[1]),\n",
    "               (pixel[0] + 1, pixel[1] + 1)]\n",
    "    # Filter out the out-of-bounds indices\n",
    "    neighbors = filter(lambda x: 0 <= x[0] < shape[0] and 0 <= x[1] < shape[1], indices)\n",
    "    return neighbors\n",
    "\n",
    "# Define the seed point for region growing\n",
    "seed = (100, 100)\n",
    "\n",
    "# Segment the image using region growing\n",
    "region_grown = region_growing(gray, seed)\n",
    "\n",
    "# Display the output image\n",
    "cv2.imshow(\"Region Grown\", region_grown)\n",
    "cv2.waitKey(0)\n",
    "cv2.destroyAllWindows()"
   ]
  },
  {
   "cell_type": "code",
   "execution_count": 8,
   "id": "8e1ece1f",
   "metadata": {},
   "outputs": [],
   "source": [
    "import numpy as np\n",
    "import cv2\n",
    "\n",
    "# Load the input image\n",
    "img = cv2.imread('img1.png')\n",
    "\n",
    "# Reshape the input image to a 2D array of pixels\n",
    "pixel_values = img.reshape((-1, 3))\n",
    "\n",
    "# Convert the pixel values to float32 for K-means clustering\n",
    "pixel_values = np.float32(pixel_values)\n",
    "\n",
    "# Define the parameters for K-means clustering\n",
    "K = 4 # number of clusters\n",
    "criteria = (cv2.TERM_CRITERIA_EPS + cv2.TERM_CRITERIA_MAX_ITER, 10, 1.0)\n",
    "\n",
    "# Perform K-means clustering\n",
    "ret, labels, centers = cv2.kmeans(pixel_values, K, None, criteria, 10, cv2.KMEANS_RANDOM_CENTERS)\n",
    "\n",
    "# Reshape the labels and centers to the original image shape\n",
    "segmented_image = labels.reshape(img.shape[:2])\n",
    "centers = np.uint8(centers)\n",
    "segmented_image = centers[segmented_image]\n",
    "\n",
    "# Display the segmented image\n",
    "cv2.imshow('Segmented Image', segmented_image)\n",
    "cv2.waitKey(0)\n",
    "cv2.destroyAllWindows()"
   ]
  },
  {
   "cell_type": "code",
   "execution_count": null,
   "id": "0aabeeb3",
   "metadata": {},
   "outputs": [],
   "source": []
  }
 ],
 "metadata": {
  "kernelspec": {
   "display_name": "Python 3",
   "language": "python",
   "name": "python3"
  },
  "language_info": {
   "codemirror_mode": {
    "name": "ipython",
    "version": 3
   },
   "file_extension": ".py",
   "mimetype": "text/x-python",
   "name": "python",
   "nbconvert_exporter": "python",
   "pygments_lexer": "ipython3",
   "version": "3.8.8"
  }
 },
 "nbformat": 4,
 "nbformat_minor": 5
}
